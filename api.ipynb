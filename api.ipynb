{
 "cells": [
  {
   "cell_type": "code",
   "execution_count": 14,
   "id": "1816b0ad-6dc2-4e24-a894-ae24a4b3b052",
   "metadata": {},
   "outputs": [],
   "source": [
    "import os\n",
    "import json\n",
    "\n",
    "from ghapi.core import GhApi"
   ]
  },
  {
   "cell_type": "code",
   "execution_count": 3,
   "id": "59a20dc0-ef11-4c55-a565-a858a6df2049",
   "metadata": {},
   "outputs": [],
   "source": [
    "api = GhApi(owner='jjpp109309', repo='wandb_cicd')"
   ]
  },
  {
   "cell_type": "code",
   "execution_count": 10,
   "id": "8fd0b37e-07d1-4906-bbaf-1a624f26f5d6",
   "metadata": {},
   "outputs": [],
   "source": [
    "pulls = api.pulls.list()"
   ]
  },
  {
   "cell_type": "code",
   "execution_count": 21,
   "id": "cbcab258-6827-41eb-81fa-3259ee278a35",
   "metadata": {},
   "outputs": [
    {
     "name": "stdout",
     "output_type": "stream",
     "text": [
      "5 test issue for using api|6|https://github.com/jjpp109309/wandb_cicd/pull/6\n"
     ]
    }
   ],
   "source": [
    "for pr in api.pulls.list():\n",
    "    print(pr.title, pr.number, pr.html_url, sep=\"|\")"
   ]
  },
  {
   "cell_type": "code",
   "execution_count": 23,
   "id": "bd1503dd-7237-4c25-8ce2-aea5f6a35bbe",
   "metadata": {},
   "outputs": [],
   "source": [
    "comment = api.issues.create_comment(6, \"Hi! I am making a comment with `ghapi`!\")"
   ]
  },
  {
   "cell_type": "code",
   "execution_count": 24,
   "id": "b6476265-20cc-4ce4-8f63-efd4b04fb093",
   "metadata": {},
   "outputs": [
    {
     "data": {
      "text/plain": [
       "'https://github.com/jjpp109309/wandb_cicd/pull/6#issuecomment-1800863305'"
      ]
     },
     "execution_count": 24,
     "metadata": {},
     "output_type": "execute_result"
    }
   ],
   "source": [
    "comment.html_url"
   ]
  },
  {
   "cell_type": "markdown",
   "id": "f7ba168f-afc3-470d-99f7-2568a586873f",
   "metadata": {},
   "source": [
    "# label a pull request"
   ]
  },
  {
   "cell_type": "code",
   "execution_count": 25,
   "id": "e6a76443-0b29-488c-8c6e-a7280c7df27c",
   "metadata": {},
   "outputs": [
    {
     "data": {
      "text/plain": [
       "(#2) [{'id': 6182734416, 'node_id': 'LA_kwDOKprv3s8AAAABcIUKUA', 'url': 'https://api.github.com/repos/jjpp109309/wandb_cicd/labels/wandb%20demo', 'name': 'wandb demo', 'color': 'ededed', 'default': False, 'description': None},{'id': 6182734417, 'node_id': 'LA_kwDOKprv3s8AAAABcIUKUQ', 'url': 'https://api.github.com/repos/jjpp109309/wandb_cicd/labels/hiya', 'name': 'hiya', 'color': 'ededed', 'default': False, 'description': None}]"
      ]
     },
     "execution_count": 25,
     "metadata": {},
     "output_type": "execute_result"
    }
   ],
   "source": [
    "api.issues.add_labels(6, labels=[\"wandb demo\", \"hiya\"])"
   ]
  },
  {
   "cell_type": "code",
   "execution_count": 28,
   "id": "d7169d04-c3b9-4c49-b91d-318b85b3eda6",
   "metadata": {},
   "outputs": [],
   "source": [
    "label = api.issues.create_label(\"custom-label\", color=\"00ff00\")"
   ]
  },
  {
   "cell_type": "code",
   "execution_count": 27,
   "id": "e6880b5d-aa9c-4448-89b0-77a8158f1824",
   "metadata": {},
   "outputs": [
    {
     "data": {
      "text/markdown": [
       "```json\n",
       "{ 'color': '00ff00',\n",
       "  'default': False,\n",
       "  'description': None,\n",
       "  'id': 6182741338,\n",
       "  'name': 'this is my label',\n",
       "  'node_id': 'LA_kwDOKprv3s8AAAABcIUlWg',\n",
       "  'url': 'https://api.github.com/repos/jjpp109309/wandb_cicd/labels/this%20is%20my%20label'}\n",
       "```"
      ],
      "text/plain": [
       "{'id': 6182741338,\n",
       " 'node_id': 'LA_kwDOKprv3s8AAAABcIUlWg',\n",
       " 'url': 'https://api.github.com/repos/jjpp109309/wandb_cicd/labels/this%20is%20my%20label',\n",
       " 'name': 'this is my label',\n",
       " 'color': '00ff00',\n",
       " 'default': False,\n",
       " 'description': None}"
      ]
     },
     "execution_count": 27,
     "metadata": {},
     "output_type": "execute_result"
    }
   ],
   "source": [
    "label"
   ]
  },
  {
   "cell_type": "code",
   "execution_count": 29,
   "id": "9b1cffa7-e3a5-4a7c-9e02-f18dd0f177a9",
   "metadata": {},
   "outputs": [
    {
     "data": {
      "text/plain": [
       "(#3) [{'id': 6182734416, 'node_id': 'LA_kwDOKprv3s8AAAABcIUKUA', 'url': 'https://api.github.com/repos/jjpp109309/wandb_cicd/labels/wandb%20demo', 'name': 'wandb demo', 'color': 'ededed', 'default': False, 'description': None},{'id': 6182734417, 'node_id': 'LA_kwDOKprv3s8AAAABcIUKUQ', 'url': 'https://api.github.com/repos/jjpp109309/wandb_cicd/labels/hiya', 'name': 'hiya', 'color': 'ededed', 'default': False, 'description': None},{'id': 6182743355, 'node_id': 'LA_kwDOKprv3s8AAAABcIUtOw', 'url': 'https://api.github.com/repos/jjpp109309/wandb_cicd/labels/custom-label', 'name': 'custom-label', 'color': '00ff00', 'default': False, 'description': None}]"
      ]
     },
     "execution_count": 29,
     "metadata": {},
     "output_type": "execute_result"
    }
   ],
   "source": [
    "api.issues.add_labels(6, labels=[\"custom-label\"])"
   ]
  },
  {
   "cell_type": "code",
   "execution_count": null,
   "id": "d16f4822-c922-4349-a615-c19f0ded1442",
   "metadata": {},
   "outputs": [],
   "source": []
  }
 ],
 "metadata": {
  "kernelspec": {
   "display_name": "Python 3 (ipykernel)",
   "language": "python",
   "name": "python3"
  },
  "language_info": {
   "codemirror_mode": {
    "name": "ipython",
    "version": 3
   },
   "file_extension": ".py",
   "mimetype": "text/x-python",
   "name": "python",
   "nbconvert_exporter": "python",
   "pygments_lexer": "ipython3",
   "version": "3.10.13"
  }
 },
 "nbformat": 4,
 "nbformat_minor": 5
}
