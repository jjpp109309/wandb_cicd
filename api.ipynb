{
 "cells": [
  {
   "cell_type": "code",
   "execution_count": 1,
   "id": "1816b0ad-6dc2-4e24-a894-ae24a4b3b052",
   "metadata": {},
   "outputs": [],
   "source": [
    "import os\n",
    "from ghapi.core import GhApi"
   ]
  },
  {
   "cell_type": "code",
   "execution_count": 3,
   "id": "59a20dc0-ef11-4c55-a565-a858a6df2049",
   "metadata": {},
   "outputs": [],
   "source": [
    "api = GhApi(owner='jjpp109309', repo='wandb_cicd')"
   ]
  },
  {
   "cell_type": "code",
   "execution_count": 4,
   "id": "8fd0b37e-07d1-4906-bbaf-1a624f26f5d6",
   "metadata": {},
   "outputs": [
    {
     "data": {
      "text/plain": [
       "(#2) [{'ref': 'refs/heads/main', 'node_id': 'REF_kwDOKprv3q9yZWZzL2hlYWRzL21haW4', 'url': 'https://api.github.com/repos/jjpp109309/wandb_cicd/git/refs/heads/main', 'object': {'sha': 'e8cd2d21de480b7506ffab71f532b9c677657e6c', 'type': 'commit', 'url': 'https://api.github.com/repos/jjpp109309/wandb_cicd/git/commits/e8cd2d21de480b7506ffab71f532b9c677657e6c'}},{'ref': 'refs/heads/5-test-issue-for-using-api', 'node_id': 'REF_kwDOKprv3toAJXJlZnMvaGVhZHMvNS10ZXN0LWlzc3VlLWZvci11c2luZy1hcGk', 'url': 'https://api.github.com/repos/jjpp109309/wandb_cicd/git/refs/heads/5-test-issue-for-using-api', 'object': {'sha': 'e8cd2d21de480b7506ffab71f532b9c677657e6c', 'type': 'commit', 'url': 'https://api.github.com/repos/jjpp109309/wandb_cicd/git/commits/e8cd2d21de480b7506ffab71f532b9c677657e6c'}}]"
      ]
     },
     "execution_count": 4,
     "metadata": {},
     "output_type": "execute_result"
    }
   ],
   "source": [
    "api.list_branches()"
   ]
  },
  {
   "cell_type": "code",
   "execution_count": null,
   "id": "88322fa8-c8e0-441e-b88d-b86c0bca85c2",
   "metadata": {},
   "outputs": [],
   "source": []
  }
 ],
 "metadata": {
  "kernelspec": {
   "display_name": "Python 3 (ipykernel)",
   "language": "python",
   "name": "python3"
  },
  "language_info": {
   "codemirror_mode": {
    "name": "ipython",
    "version": 3
   },
   "file_extension": ".py",
   "mimetype": "text/x-python",
   "name": "python",
   "nbconvert_exporter": "python",
   "pygments_lexer": "ipython3",
   "version": "3.10.13"
  }
 },
 "nbformat": 4,
 "nbformat_minor": 5
}
