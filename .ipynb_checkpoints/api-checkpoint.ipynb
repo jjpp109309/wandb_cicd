{
 "cells": [
  {
   "cell_type": "code",
   "execution_count": 14,
   "id": "1816b0ad-6dc2-4e24-a894-ae24a4b3b052",
   "metadata": {},
   "outputs": [],
   "source": [
    "import os\n",
    "import json\n",
    "\n",
    "from ghapi.core import GhApi"
   ]
  },
  {
   "cell_type": "code",
   "execution_count": 3,
   "id": "59a20dc0-ef11-4c55-a565-a858a6df2049",
   "metadata": {},
   "outputs": [],
   "source": [
    "api = GhApi(owner='jjpp109309', repo='wandb_cicd')"
   ]
  },
  {
   "cell_type": "code",
   "execution_count": 10,
   "id": "8fd0b37e-07d1-4906-bbaf-1a624f26f5d6",
   "metadata": {},
   "outputs": [],
   "source": [
    "pulls = api.pulls.list()"
   ]
  },
  {
   "cell_type": "code",
   "execution_count": 21,
   "id": "cbcab258-6827-41eb-81fa-3259ee278a35",
   "metadata": {},
   "outputs": [
    {
     "name": "stdout",
     "output_type": "stream",
     "text": [
      "5 test issue for using api|6|https://github.com/jjpp109309/wandb_cicd/pull/6\n"
     ]
    }
   ],
   "source": [
    "for pr in api.pulls.list():\n",
    "    print(pr.title, pr.number, pr.html_url, sep=\"|\")"
   ]
  },
  {
   "cell_type": "code",
   "execution_count": null,
   "id": "bd1503dd-7237-4c25-8ce2-aea5f6a35bbe",
   "metadata": {},
   "outputs": [],
   "source": [
    "api.issues.create_comment(6, \"Hi! I am making a comment with `ghapi`\")"
   ]
  }
 ],
 "metadata": {
  "kernelspec": {
   "display_name": "Python 3 (ipykernel)",
   "language": "python",
   "name": "python3"
  },
  "language_info": {
   "codemirror_mode": {
    "name": "ipython",
    "version": 3
   },
   "file_extension": ".py",
   "mimetype": "text/x-python",
   "name": "python",
   "nbconvert_exporter": "python",
   "pygments_lexer": "ipython3",
   "version": "3.10.13"
  }
 },
 "nbformat": 4,
 "nbformat_minor": 5
}
