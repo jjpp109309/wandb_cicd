{
 "cells": [
  {
   "cell_type": "code",
   "execution_count": 1,
   "id": "31cb0739-cf42-4dc9-ac7b-de5555eb75a8",
   "metadata": {},
   "outputs": [],
   "source": [
    "import os\n",
    "from ghapi.core import GhApi"
   ]
  },
  {
   "cell_type": "code",
   "execution_count": 2,
   "id": "8f5425f2-a63e-44cd-b851-5a6298c943e4",
   "metadata": {},
   "outputs": [],
   "source": [
    "api = GhApi(owner='jjpp109309', repo='wandb_cicd')"
   ]
  },
  {
   "cell_type": "code",
   "execution_count": null,
   "id": "9643f07a-12a1-46cb-83b6-fd4bb1998920",
   "metadata": {},
   "outputs": [],
   "source": [
    "api.pulls."
   ]
  },
  {
   "cell_type": "code",
   "execution_count": null,
   "id": "625cfecb-a9e5-4a87-9a87-b7ab6cd69f0b",
   "metadata": {},
   "outputs": [],
   "source": []
  }
 ],
 "metadata": {
  "kernelspec": {
   "display_name": "Python 3 (ipykernel)",
   "language": "python",
   "name": "python3"
  },
  "language_info": {
   "codemirror_mode": {
    "name": "ipython",
    "version": 3
   },
   "file_extension": ".py",
   "mimetype": "text/x-python",
   "name": "python",
   "nbconvert_exporter": "python",
   "pygments_lexer": "ipython3",
   "version": "3.10.13"
  }
 },
 "nbformat": 4,
 "nbformat_minor": 5
}
